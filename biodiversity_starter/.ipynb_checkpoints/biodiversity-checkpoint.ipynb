{
 "cells": [
  {
   "cell_type": "code",
   "execution_count": 1,
   "metadata": {},
   "outputs": [],
   "source": [
    "import pandas as pd\n",
    "import matplotlib.pyplot as plt\n",
    "import numpy as np\n",
    "import seaborn as sns\n",
    "\n",
    "# Set the display width to a larger value (e.g., 200 characters)\n",
    "pd.set_option('display.width', 200)\n",
    "\n",
    "# Allow each column to display more content without truncation\n",
    "pd.set_option('colheader_justify','center','display.max_colwidth', None)"
   ]
  },
  {
   "cell_type": "code",
   "execution_count": 2,
   "metadata": {},
   "outputs": [
    {
     "name": "stdout",
     "output_type": "stream",
     "text": [
      "     scientific_name         park_name        observations     category                        common_names                    conservation_status\n",
      "0       Elanus leucurus  Bryce National Park        71                Bird                                   White-Tailed Kite  Species of Concern\n",
      "1  Leucanthemum vulgare  Bryce National Park        91      Vascular Plant  Oxeye Daisy, Ox-Eye Daisy, Oxeyedaisy, Oxeye-Daisy      Not Endangered\n",
      "2        Rallus elegans  Bryce National Park        53                Bird                                           King Rail  Species of Concern\n",
      "3  Leucanthemum vulgare  Bryce National Park       116      Vascular Plant                                               Daisy      Not Endangered\n",
      "4  Leucanthemum vulgare  Bryce National Park       116      Vascular Plant  Oxeye Daisy, Ox-Eye Daisy, Oxeyedaisy, Oxeye-Daisy      Not Endangered\n"
     ]
    }
   ],
   "source": [
    "# Data to be worked with\n",
    "obs_df = pd.read_csv(\"observations.csv\")\n",
    "spec_df = pd.read_csv(\"species_info.csv\")\n",
    "\n",
    "# merge dataframes into one and reset the index\n",
    "merged = pd.merge(obs_df, spec_df, on='scientific_name').sort_values(by='park_name', ascending=True).reset_index().drop(columns='index')\n",
    "\n",
    "# Fill nan with 'Not Endangered' for conservation status. I'm sure there's a more accurate term, but I don't know the nomenclature\n",
    "merged.conservation_status = merged.conservation_status.fillna('Not Endangered')\n",
    "\n",
    "# easier to reference park list\n",
    "park_l = merged.park_name.unique()\n",
    "\n",
    "print(merged.head())"
   ]
  },
  {
   "cell_type": "code",
   "execution_count": 3,
   "metadata": {},
   "outputs": [
    {
     "name": "stdout",
     "output_type": "stream",
     "text": [
      "Index(['Amphibian', 'Bird', 'Fish', 'Mammal', 'Nonvascular Plant', 'Reptile', 'Vascular Plant'], dtype='object', name='category')\n"
     ]
    }
   ],
   "source": [
    "# create a dataframe for each park to make sure the numbers are correct\n",
    "df_dict = {}\n",
    "for x in park_l:\n",
    "    df_dict[x] = merged[merged.park_name == x]\n",
    "\n",
    "# create a dataset grouped by category showing the sum of observations\n",
    "obspark_dict = {}\n",
    "for x in park_l:\n",
    "    obspark_dict[x] = df_dict[x].groupby('category').observations.sum()\n",
    "print(obspark_dict[park_l[0]].keys())\n",
    "\n",
    "# graphs for observations\n",
    "# for x in range(len(park_l)):\n",
    "#     ds = obspark_dict[park_l[x]]\n",
    "#     ds_rl = range(len(ds))\n",
    "#     ax = plt.subplot(2,2,x+1)\n",
    "#     plt.bar(ds_rl,ds)\n",
    "#     plt.title(park_l[x].title)\n",
    "#     ax.set_xticks(ds_rl)\n",
    "#     ax.set_xticklabels(ds.keys(),fontsize=5,rotation=90)\n",
    "    "
   ]
  }
 ],
 "metadata": {
  "kernelspec": {
   "display_name": "Python 3 (ipykernel)",
   "language": "python",
   "name": "python3"
  },
  "language_info": {
   "codemirror_mode": {
    "name": "ipython",
    "version": 3
   },
   "file_extension": ".py",
   "mimetype": "text/x-python",
   "name": "python",
   "nbconvert_exporter": "python",
   "pygments_lexer": "ipython3",
   "version": "3.10.9"
  }
 },
 "nbformat": 4,
 "nbformat_minor": 4
}
