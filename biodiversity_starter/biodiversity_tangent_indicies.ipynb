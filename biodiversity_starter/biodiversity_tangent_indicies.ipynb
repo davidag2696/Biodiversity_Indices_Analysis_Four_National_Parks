{
 "cells": [
  {
   "cell_type": "code",
   "execution_count": 1,
   "metadata": {},
   "outputs": [],
   "source": [
    "import pandas as pd\n",
    "import matplotlib.pyplot as plt\n",
    "import numpy as np\n",
    "import seaborn as sns\n",
    "\n",
    "# Set the display width to a larger value (e.g., 200 characters)\n",
    "pd.set_option('display.width', 200)\n",
    "\n",
    "# Allow each column to display more content without truncation\n",
    "pd.set_option('colheader_justify','center','display.max_colwidth', None)\n",
    "\n",
    "# 1.9.25 : after reviewing some of the general sentiment of ecology, it seems there is a popular index (the \n",
    "# Shannon index) that is used for biodiversity (interestingly a derivative of an entropy equation). Scrapping\n",
    "# previous work in favour of pursuing this. Original work saved in separate python file"
   ]
  },
  {
   "cell_type": "code",
   "execution_count": 26,
   "metadata": {},
   "outputs": [
    {
     "name": "stdout",
     "output_type": "stream",
     "text": [
      "         scientific_name         park_name    observations  category  conservation_status\n",
      "0     Gastrophryne carolinensis  Yellowstone       235      Amphibian          NaN       \n",
      "1  Desmognathus quadramaculatus  Yellowstone       255      Amphibian          NaN       \n",
      "2       Batrachoseps diabolicus     Yosemite       155      Amphibian          NaN       \n",
      "3       Batrachoseps diabolicus        Bryce        80      Amphibian          NaN       \n",
      "4       Batrachoseps diabolicus  Yellowstone       282      Amphibian          NaN       \n"
     ]
    }
   ],
   "source": [
    "# Data to be worked with\n",
    "obs_df = pd.read_csv(\"observations.csv\")\n",
    "spec_df = pd.read_csv(\"species_info.csv\")\n",
    "\n",
    "#  double-check/clean\n",
    "def initial_check(df):\n",
    "    print(df.count())\n",
    "    print(df.head(3))\n",
    "    print(df.describe())\n",
    "    print(df.dtypes)\n",
    "    return\n",
    "obs_df = obs_df.drop_duplicates()\n",
    "spec_df = spec_df.drop_duplicates()\n",
    "# merge dataframes into one and reset the index\n",
    "merged = pd.merge(obs_df, spec_df[['scientific_name','category','conservation_status']], on='scientific_name').sort_values(by='category', ascending=True).reset_index().drop(columns='index')\n",
    "\n",
    "# easier to reference park list get rid of all ' National Park' to make it look slightly better for charts. Later dropped need for parks with exploration of data\n",
    "merged['park_name'] = merged['park_name'].str.replace('National Park', '').str.strip()\n",
    "merged = merged.drop_duplicates()\n",
    "park_l = merged.park_name.unique()\n",
    "print(merged.head())"
   ]
  },
  {
   "cell_type": "code",
   "execution_count": 67,
   "metadata": {},
   "outputs": [
    {
     "name": "stdout",
     "output_type": "stream",
     "text": [
      "         park_name             category       observation_sum  conserv_stat_count  unique_spec  pop_proportion   weights \n",
      "0                   Bryce          Amphibian         7380               7               79         0.012808        7380.0\n",
      "1                   Bryce               Bird        51647              79              488         0.089635       51647.0\n",
      "2                   Bryce               Fish        12587              12              125         0.021845       12587.0\n",
      "3                   Bryce             Mammal        20680              41              176         0.035891       20680.0\n",
      "4                   Bryce  Nonvascular Plant        32992               5              333         0.057258       32992.0\n",
      "5                   Bryce            Reptile         7950               5               78         0.013797        7950.0\n",
      "6                   Bryce     Vascular Plant       442959              46             4262         0.768766      442959.0\n",
      "7   Great Smoky Mountains          Amphibian         5707               7               79         0.013225        5707.0\n",
      "8   Great Smoky Mountains               Bird        37728              79              488         0.087427       37728.0\n",
      "9   Great Smoky Mountains               Fish         9306              12              125         0.021565        9306.0\n",
      "10  Great Smoky Mountains             Mammal        15071              41              176         0.034924       15071.0\n",
      "11  Great Smoky Mountains  Nonvascular Plant        24857               5              333         0.057601       24857.0\n",
      "12  Great Smoky Mountains            Reptile         5691               5               78         0.013188        5691.0\n",
      "13  Great Smoky Mountains     Vascular Plant       333177              46             4262         0.772071      333177.0\n",
      "14            Yellowstone          Amphibian        19440               7               79         0.013472       19440.0\n",
      "15            Yellowstone               Bird       126996              79              488         0.088007      126996.0\n",
      "16            Yellowstone               Fish        30946              12              125         0.021445       30946.0\n",
      "17            Yellowstone             Mammal        50869              41              176         0.035252       50869.0\n",
      "18            Yellowstone  Nonvascular Plant        83021               5              333         0.057533       83021.0\n",
      "19            Yellowstone            Reptile        19554               5               78         0.013551       19554.0\n",
      "20            Yellowstone     Vascular Plant      1112190              46             4262         0.770740     1112190.0\n",
      "21               Yosemite          Amphibian        11444               7               79         0.013258       11444.0\n",
      "22               Yosemite               Bird        76207              79              488         0.088283       76207.0\n",
      "23               Yosemite               Fish        18792              12              125         0.021770       18792.0\n",
      "24               Yosemite             Mammal        30535              41              176         0.035374       30535.0\n",
      "25               Yosemite  Nonvascular Plant        49783               5              333         0.057672       49783.0\n",
      "26               Yosemite            Reptile        11483               5               78         0.013303       11483.0\n",
      "27               Yosemite     Vascular Plant       664965              46             4262         0.770341      664965.0\n"
     ]
    }
   ],
   "source": [
    "index_df = merged.groupby(['park_name','category']).agg(\n",
    "    observation_sum = ('observations','sum'), conserv_stat_count = ('conservation_status','count'), unique_spec = ('scientific_name','nunique')).reset_index()\n",
    "total_observations_per_park = {}\n",
    "for x in park_l:\n",
    "    total_observations_per_park[x] = index_df[index_df.park_name == x].observation_sum.sum()\n",
    "park_map = index_df['park_name'].map(total_observations_per_park)\n",
    "index_df['pop_proportion'] = index_df['observation_sum'] / park_map\n",
    "index_df['weights'] = (index_df['observation_sum'] * index_df['pop_proportion']) / index_df['pop_proportion']\n",
    "print(index_df)"
   ]
  },
  {
   "cell_type": "code",
   "execution_count": null,
   "metadata": {},
   "outputs": [],
   "source": [
    "# below was done mostly by ChatGPT when given dummy data\n",
    "\n",
    "def weighted_generalized_mean(series, weights, p):\n",
    "    \"\"\"\n",
    "    Calculate the weighted generalized mean of order p for a series.\n",
    "\n",
    "    Args:\n",
    "        series (list or np.ndarray): The data values.\n",
    "        weights (list or np.ndarray): The weights corresponding to the data values.\n",
    "        p (float): The order of the generalized mean.\n",
    "\n",
    "    Returns:\n",
    "        float: The weighted generalized mean.\n",
    "    \"\"\"\n",
    "    # Ensure inputs are numpy arrays for easier math operations\n",
    "    series = np.array(series)\n",
    "    weights = np.array(weights)\n",
    "    \n",
    "    # Handle edge case for p = 0 (geometric mean)\n",
    "    if p == 0:\n",
    "        # Calculate geometric mean\n",
    "        return np.exp(np.sum(weights * np.log(series)) / np.sum(weights))\n",
    "    \n",
    "    # General case for p != 0\n",
    "    numerator = np.sum(weights * series**p)\n",
    "    denominator = np.sum(weights)\n",
    "    \n",
    "    return (numerator / denominator) ** (1 / p)\n",
    "\n",
    "# Example usage\n",
    "values = [4, 7, 10]\n",
    "weights = [1, 2, 3]\n",
    "p = 2  # Quadratic mean\n",
    "\n",
    "result = weighted_generalized_mean(values, weights, p)\n",
    "print(f\"The weighted generalized mean of order {p} is: {result}\")\n"
   ]
  }
 ],
 "metadata": {
  "kernelspec": {
   "display_name": "Python 3 (ipykernel)",
   "language": "python",
   "name": "python3"
  },
  "language_info": {
   "codemirror_mode": {
    "name": "ipython",
    "version": 3
   },
   "file_extension": ".py",
   "mimetype": "text/x-python",
   "name": "python",
   "nbconvert_exporter": "python",
   "pygments_lexer": "ipython3",
   "version": "3.10.9"
  }
 },
 "nbformat": 4,
 "nbformat_minor": 4
}
